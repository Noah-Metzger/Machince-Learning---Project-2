{
 "cells": [
  {
   "cell_type": "code",
   "execution_count": null,
   "id": "25482f5c",
   "metadata": {},
   "outputs": [],
   "source": [
    "import pandas as pd\n",
    "import numpy as np\n",
    "import math"
   ]
  },
  {
   "cell_type": "code",
   "execution_count": null,
   "id": "1282c151",
   "metadata": {},
   "outputs": [],
   "source": [
    "glass = pd.read_csv('Data/glass.csv', header=None)\n",
    "glass = glass.drop([0],axis=1)\n",
    "fire = pd.read_csv('Data/forestfires.csv')\n",
    "print(fire)\n",
    "fire = pd.get_dummies(fire, [\"month\", 'day'])\n",
    "print(fire.columns)"
   ]
  },
  {
   "cell_type": "code",
   "execution_count": null,
   "id": "337b832a",
   "metadata": {},
   "outputs": [],
   "source": [
    "folds = np.array_split(fire, 10)\n",
    "\n",
    "print(folds[0].columns)\n",
    "\n",
    "train = pd.DataFrame()\n",
    "test = pd.DataFrame()\n",
    "\n",
    "for i, fold in enumerate(folds):\n",
    "    if i == 0:\n",
    "        test = test.append(fold)\n",
    "    else:\n",
    "        train = train.append(fold)\n",
    "        \n",
    "train.columns"
   ]
  },
  {
   "cell_type": "code",
   "execution_count": null,
   "id": "cb621f34",
   "metadata": {},
   "outputs": [],
   "source": [
    "train.columns"
   ]
  },
  {
   "cell_type": "code",
   "execution_count": null,
   "id": "8d68de12",
   "metadata": {},
   "outputs": [],
   "source": [
    "test"
   ]
  },
  {
   "cell_type": "code",
   "execution_count": null,
   "id": "67076956",
   "metadata": {},
   "outputs": [],
   "source": [
    "train_y = train[\"area\"]\n",
    "train.drop([\"area\"], axis=1)\n",
    "\n",
    "test_y = test[\"area\"]\n",
    "test.drop([\"area\"], axis=1)"
   ]
  },
  {
   "cell_type": "code",
   "execution_count": null,
   "id": "e844c013",
   "metadata": {},
   "outputs": [],
   "source": [
    "train"
   ]
  },
  {
   "cell_type": "code",
   "execution_count": null,
   "id": "6b4e7cad",
   "metadata": {},
   "outputs": [],
   "source": [
    "test"
   ]
  },
  {
   "cell_type": "code",
   "execution_count": null,
   "id": "6bb5c852",
   "metadata": {},
   "outputs": [],
   "source": [
    "test_y"
   ]
  },
  {
   "cell_type": "code",
   "execution_count": null,
   "id": "86e39113",
   "metadata": {},
   "outputs": [],
   "source": [
    "train_y"
   ]
  },
  {
   "cell_type": "code",
   "execution_count": null,
   "id": "dc91f539",
   "metadata": {},
   "outputs": [],
   "source": [
    "train.loc[52]"
   ]
  },
  {
   "cell_type": "code",
   "execution_count": null,
   "id": "defaba68",
   "metadata": {},
   "outputs": [],
   "source": [
    "def lpNorm(x, y, p):\n",
    "    sums = 0\n",
    "    for i in range(len(x)):\n",
    "        sums += pow(x[i]-y[i], p)\n",
    "    return pow(sums, (1/p))\n",
    "\n",
    "def kernel(x,y,sigma):\n",
    "    r = 1/(2 * sigma)\n",
    "    return math.exp(-r*lpNorm(x,y,2))\n",
    "\n",
    "def predict(test, train, train_y, k, isClassification):\n",
    "    predictions = []\n",
    "    for ind, testInstance in test.iterrows():\n",
    "        neighbors = []\n",
    "        classes = []\n",
    "        indices = []\n",
    "        for i, row in train.iterrows():\n",
    "            dist = lpNorm(np.array(row), np.array(testInstance), 2)\n",
    "            neighbors.append(dist)\n",
    "            classes.append(train_y[i])\n",
    "            indices.append(i)\n",
    "\n",
    "        for i in range(len(neighbors)):\n",
    "            for j in range(0, len(neighbors)-i-1):\n",
    "                if neighbors[j] > neighbors[j+1]:\n",
    "                    neighbors[j], neighbors[j+1] = neighbors[j+1], neighbors[j]\n",
    "                    classes[j], classes[j+1] = classes[j+1], classes[j]\n",
    "                    indices[j], indices[j+1] = indices[j+1], indices[j]\n",
    "\n",
    "        nearestNeighbors = classes[:k]\n",
    "        nearestIndices = indices[:k]\n",
    "\n",
    "        if isClassification:\n",
    "            vote = np.unique(nearestNeighbors)\n",
    "            count = []\n",
    "            for i in range(len(vote)):\n",
    "                count.append(0)\n",
    "\n",
    "            for i in nearestNeighbors:\n",
    "                for j, cl in enumerate(vote):\n",
    "                    if i == cl:\n",
    "                        count[j] += 1\n",
    "            predictions.append(vote[np.argmax(count)])\n",
    "        else:\n",
    "            bandwidth = 1\n",
    "            nom = 0\n",
    "            dom = 0\n",
    "            for i in nearestIndices:\n",
    "                kern = kernel(train.loc[i], testInstance, bandwidth)\n",
    "                nom += kern * train_y[i]\n",
    "                dom += kern\n",
    "            avg = 0\n",
    "            for i in nearestIndices:\n",
    "                avg += train_y[i]\n",
    "            avg /= k\n",
    "            print(nom/dom)\n",
    "            print(avg)\n",
    "            print()\n",
    "            predictions.append(nom/dom)\n",
    "    return predictions\n",
    "\n",
    "predict(test, train, train_y, 5, False)"
   ]
  },
  {
   "cell_type": "code",
   "execution_count": null,
   "id": "6c8a703c",
   "metadata": {},
   "outputs": [],
   "source": [
    "def Kmeans(k, df, maxIter):\n",
    "    diff = delta+1\n",
    "    kPoints = df.sample(k)\n",
    "    centers = []\n",
    "    for i, r in kPoints.iterrows():\n",
    "        centers.append(r)\n",
    "\n",
    "    for z in range(maxIter):\n",
    "        binn = []\n",
    "        for i in range(k):\n",
    "            binn.append([])\n",
    "        for i, row in df.iterrows():\n",
    "            dist = []\n",
    "            for center in centers:\n",
    "                dist.append(lpNorm(row, center, 2))\n",
    "            binn[np.argmin(np.array(dist))].append(i)\n",
    "        print(binn)\n",
    "#         for index, cluster in enumerate(binn):\n",
    "#             avgInst = np.empty([1,1])\n",
    "#             for i, inst in enumerate(cluster):\n",
    "#                 row = np.array(df.loc[inst])\n",
    "#                 if i == 0:\n",
    "#                     avgInst = row\n",
    "#                 else:\n",
    "#                     for j, val in enumerate(row):\n",
    "#                         avgInst[j] += val\n",
    "#             for i in range(len(avgInst)):\n",
    "#                 avgInst /= len(len(cluster))\n",
    "#             print(avgInst)\n",
    "            \n",
    "Kmeans(3, fire, 1)"
   ]
  },
  {
   "cell_type": "code",
   "execution_count": null,
   "id": "d2c71128",
   "metadata": {},
   "outputs": [],
   "source": []
  },
  {
   "cell_type": "code",
   "execution_count": null,
   "id": "eac4c91f",
   "metadata": {},
   "outputs": [],
   "source": []
  },
  {
   "cell_type": "code",
   "execution_count": null,
   "id": "ffe473ee",
   "metadata": {},
   "outputs": [],
   "source": []
  }
 ],
 "metadata": {
  "kernelspec": {
   "display_name": "Python 3 (ipykernel)",
   "language": "python",
   "name": "python3"
  },
  "language_info": {
   "codemirror_mode": {
    "name": "ipython",
    "version": 3
   },
   "file_extension": ".py",
   "mimetype": "text/x-python",
   "name": "python",
   "nbconvert_exporter": "python",
   "pygments_lexer": "ipython3",
   "version": "3.9.12"
  }
 },
 "nbformat": 4,
 "nbformat_minor": 5
}
